{
 "cells": [
  {
   "cell_type": "code",
   "execution_count": 3,
   "id": "7480ae80",
   "metadata": {},
   "outputs": [],
   "source": [
    "# no cache; always uploading from modules\n",
    "%load_ext autoreload\n",
    "%autoreload 2\n",
    "\n",
    "# matplotib\n",
    "%matplotlib inline"
   ]
  },
  {
   "cell_type": "code",
   "execution_count": 6,
   "id": "2d27ece0",
   "metadata": {},
   "outputs": [],
   "source": [
    "import sys\n",
    "import pickle\n",
    "import numpy as np"
   ]
  },
  {
   "cell_type": "code",
   "execution_count": 7,
   "id": "c5ca8d45",
   "metadata": {},
   "outputs": [],
   "source": [
    "sys.path.append('../')"
   ]
  },
  {
   "cell_type": "code",
   "execution_count": 8,
   "id": "3991aa60",
   "metadata": {},
   "outputs": [],
   "source": [
    "from utils.word2vec import Word2Vec"
   ]
  },
  {
   "cell_type": "code",
   "execution_count": 9,
   "id": "ad5120c8",
   "metadata": {},
   "outputs": [],
   "source": [
    "word2vec = Word2Vec()"
   ]
  },
  {
   "cell_type": "markdown",
   "id": "d8b01ded",
   "metadata": {},
   "source": [
    "# H E G E L"
   ]
  },
  {
   "cell_type": "markdown",
   "id": "4b359ecb",
   "metadata": {},
   "source": [
    "## English"
   ]
  },
  {
   "cell_type": "markdown",
   "id": "824b0c35",
   "metadata": {},
   "source": [
    "### window_size=4, remove_stop_words=True, sort_freq=10, n_epoch=5"
   ]
  },
  {
   "cell_type": "code",
   "execution_count": 2,
   "id": "b71b7cd7",
   "metadata": {},
   "outputs": [],
   "source": [
    "with open('../embeddings/ws_4/sg_hegel_eng_ws_4.pkl', 'rb') as f:  #wb - write binary; rb - read binary\n",
    "    sg_vocab_freq_hegel_eng_ws_4, sg_vocab_hegel_eng_ws_4, sg_embeddings_hegel_eng_ws_4 = pickle.load(f)"
   ]
  },
  {
   "cell_type": "code",
   "execution_count": 43,
   "id": "b0d126f2",
   "metadata": {},
   "outputs": [
    {
     "data": {
      "text/plain": [
       "['united',\n",
       " 'object',\n",
       " 'equal',\n",
       " 'estranged',\n",
       " 'individuality',\n",
       " 'movement',\n",
       " 'unhappy',\n",
       " 'dissolution',\n",
       " 'remaining',\n",
       " 'initially']"
      ]
     },
     "execution_count": 43,
     "metadata": {},
     "output_type": "execute_result"
    }
   ],
   "source": [
    "word2vec.closest_embeddings(given_word='consciousness', n_closest=10, vocab=sg_vocab_hegel_eng_ws_4,\n",
    "                           embeddings=sg_embeddings_hegel_eng_ws_4, dist_type='cosine')"
   ]
  },
  {
   "cell_type": "markdown",
   "id": "9c7d0369",
   "metadata": {},
   "source": [
    " ### window_size=3, remove_stop_words=False, sort_freq=15, n_epoch=3 "
   ]
  },
  {
   "cell_type": "code",
   "execution_count": 13,
   "id": "dfbea067",
   "metadata": {},
   "outputs": [],
   "source": [
    "with open('../embeddings/ws_3/sg_hegel_eng_ws_3.pkl', 'rb') as f:  #wb - write binary; rb - read binary\n",
    "    sg_vocab_freq_hegel_eng_ws_3, sg_vocab_hegel_eng_ws_3, sg_embeddings_hegel_eng_ws_3 = pickle.load(f)"
   ]
  },
  {
   "cell_type": "code",
   "execution_count": 22,
   "id": "0f720f26",
   "metadata": {},
   "outputs": [
    {
     "data": {
      "text/plain": [
       "['occurs',\n",
       " 'cult',\n",
       " 'end',\n",
       " 'good',\n",
       " 'utility',\n",
       " 'her',\n",
       " 'constitute',\n",
       " 'around',\n",
       " 'know',\n",
       " 'practical']"
      ]
     },
     "execution_count": 22,
     "metadata": {},
     "output_type": "execute_result"
    }
   ],
   "source": [
    "word2vec.closest_embeddings(given_word='science', n_closest=10, vocab=sg_vocab_hegel_eng_ws_3,\n",
    "                           embeddings=sg_embeddings_hegel_eng_ws_3, dist_type='cosine')"
   ]
  },
  {
   "cell_type": "markdown",
   "id": "223ba44f",
   "metadata": {},
   "source": [
    "## Deutsch"
   ]
  },
  {
   "cell_type": "markdown",
   "id": "84eb77e7",
   "metadata": {},
   "source": [
    "### window_size=4, remove_stop_words=True, sort_freq=10, n_epoch=5"
   ]
  },
  {
   "cell_type": "code",
   "execution_count": 36,
   "id": "721be1be",
   "metadata": {},
   "outputs": [],
   "source": [
    "with open('../embeddings/ws_4/sg_hegel_de_ws_4.pkl', 'rb') as f:  #wb - write binary; rb - read binary\n",
    "    sg_vocab_freq_hegel_de_ws_4, sg_vocab_hegel_de_ws_4, sg_embeddings_hegel_de_ws_4 = pickle.load(f)"
   ]
  },
  {
   "cell_type": "code",
   "execution_count": 45,
   "id": "9886006d",
   "metadata": {},
   "outputs": [
    {
     "data": {
      "text/plain": [
       "['reich',\n",
       " 'person',\n",
       " 'ich',\n",
       " 'gute',\n",
       " 'null',\n",
       " 'vollständigen',\n",
       " 'bringen',\n",
       " 'weiss',\n",
       " 'zerstörung',\n",
       " 'vertrauen']"
      ]
     },
     "execution_count": 45,
     "metadata": {},
     "output_type": "execute_result"
    }
   ],
   "source": [
    "word2vec.closest_embeddings(given_word='bewusstsein', n_closest=10, vocab=sg_vocab_hegel_de_ws_4,\n",
    "                           embeddings=sg_embeddings_hegel_de_ws_4, dist_type='cosine')"
   ]
  },
  {
   "cell_type": "markdown",
   "id": "d2770f26",
   "metadata": {},
   "source": [
    "### window_size=3, remove_stop_words=False, sort_freq=15, n_epoch=3"
   ]
  },
  {
   "cell_type": "code",
   "execution_count": 23,
   "id": "f148e245",
   "metadata": {},
   "outputs": [],
   "source": [
    "with open('../embeddings/ws_3/sg_hegel_de_ws_3.pkl', 'rb') as f:  #wb - write binary; rb - read binary\n",
    "    sg_vocab_freq_hegel_de_ws_3, sg_vocab_hegel_de_ws_3, sg_embeddings_hegel_de_ws_3 = pickle.load(f)"
   ]
  },
  {
   "cell_type": "code",
   "execution_count": 24,
   "id": "0c9d32b7",
   "metadata": {},
   "outputs": [
    {
     "data": {
      "text/plain": [
       "['mühe',\n",
       " 'mächte',\n",
       " 'versicherung',\n",
       " 'vereinzelung',\n",
       " 'stellen',\n",
       " 'kampf',\n",
       " 'furcht',\n",
       " 'aufhebung',\n",
       " 'ruhe',\n",
       " 'skeptizismus']"
      ]
     },
     "execution_count": 24,
     "metadata": {},
     "output_type": "execute_result"
    }
   ],
   "source": [
    "word2vec.closest_embeddings(given_word='wissenschaft', n_closest=10, vocab=sg_vocab_hegel_de_ws_3,\n",
    "                           embeddings=sg_embeddings_hegel_de_ws_3, dist_type='cosine')"
   ]
  },
  {
   "cell_type": "markdown",
   "id": "b0d5de4b",
   "metadata": {},
   "source": [
    "# K A N T"
   ]
  },
  {
   "cell_type": "markdown",
   "id": "e645604a",
   "metadata": {},
   "source": [
    "## English"
   ]
  },
  {
   "cell_type": "markdown",
   "id": "0396634a",
   "metadata": {},
   "source": [
    "### window_size=4, remove_stop_words=True, sort_freq=10, n_epoch=5"
   ]
  },
  {
   "cell_type": "code",
   "execution_count": 27,
   "id": "7d8aaa8d",
   "metadata": {},
   "outputs": [],
   "source": [
    "with open('../embeddings/ws_4/sg_kant_eng_ws_4.pkl', 'rb') as f:  #wb - write binary; rb - read binary\n",
    "    sg_vocab_freq_kant_eng_ws_4, sg_vocab_kant_eng_ws_4, sg_embeddings_kant_eng_ws_4 = pickle.load(f)"
   ]
  },
  {
   "cell_type": "code",
   "execution_count": 28,
   "id": "11bdd119",
   "metadata": {},
   "outputs": [
    {
     "data": {
      "text/plain": [
       "['geometry',\n",
       " 'passage',\n",
       " 'teleology',\n",
       " 'answered',\n",
       " 'scientific',\n",
       " 'bound',\n",
       " 'ethic',\n",
       " 'must',\n",
       " 'remaining',\n",
       " 'genius']"
      ]
     },
     "execution_count": 28,
     "metadata": {},
     "output_type": "execute_result"
    }
   ],
   "source": [
    "word2vec.closest_embeddings(given_word='science', n_closest=10, vocab=sg_vocab_kant_eng_ws_4,\n",
    "                           embeddings=sg_embeddings_kant_eng_ws_4, dist_type='cosine')"
   ]
  },
  {
   "cell_type": "markdown",
   "id": "c248c77b",
   "metadata": {},
   "source": [
    " ### window_size=3, remove_stop_words=False, sort_freq=15, n_epoch=3\n"
   ]
  },
  {
   "cell_type": "code",
   "execution_count": 29,
   "id": "9d308974",
   "metadata": {},
   "outputs": [],
   "source": [
    "with open('../embeddings/ws_3/sg_kant_eng_ws_3.pkl', 'rb') as f:  #wb - write binary; rb - read binary\n",
    "    sg_vocab_freq_kant_eng_ws_3, sg_vocab_kant_eng_ws_3, sg_embeddings_kant_eng_ws_3 = pickle.load(f)"
   ]
  },
  {
   "cell_type": "code",
   "execution_count": 30,
   "id": "7cc8d7c3",
   "metadata": {},
   "outputs": [
    {
     "data": {
      "text/plain": [
       "['specific',\n",
       " 'again',\n",
       " 'constitutes',\n",
       " 'preceding',\n",
       " 'proper',\n",
       " 'highest',\n",
       " 'axiom',\n",
       " 'loss',\n",
       " 'sophistical',\n",
       " 'naturally']"
      ]
     },
     "execution_count": 30,
     "metadata": {},
     "output_type": "execute_result"
    }
   ],
   "source": [
    "word2vec.closest_embeddings(given_word='science', n_closest=10, vocab=sg_vocab_kant_eng_ws_3,\n",
    "                           embeddings=sg_embeddings_kant_eng_ws_3, dist_type='cosine')"
   ]
  },
  {
   "cell_type": "markdown",
   "id": "cb3484d2",
   "metadata": {},
   "source": [
    "## Deutsch"
   ]
  },
  {
   "cell_type": "markdown",
   "id": "657dbd8d",
   "metadata": {},
   "source": [
    "### window_size=4, remove_stop_words=True, sort_freq=10, n_epoch=5"
   ]
  },
  {
   "cell_type": "code",
   "execution_count": 32,
   "id": "aaefef3b",
   "metadata": {},
   "outputs": [],
   "source": [
    "with open('../embeddings/ws_4/sg_kant_de_ws_4.pkl', 'rb') as f:  #wb - write binary; rb - read binary\n",
    "    sg_vocab_freq_kant_de_ws_4, sg_vocab_kant_de_ws_4, sg_embeddings_kant_de_ws_4 = pickle.load(f)"
   ]
  },
  {
   "cell_type": "code",
   "execution_count": 35,
   "id": "e2e2d925",
   "metadata": {},
   "outputs": [
    {
     "data": {
      "text/plain": [
       "['technisch',\n",
       " 'dialektisch',\n",
       " 'nehme',\n",
       " 'schemate',\n",
       " 'erster',\n",
       " 'talent',\n",
       " 'transzendental',\n",
       " 'reicht',\n",
       " 'künste',\n",
       " 'überzeugt']"
      ]
     },
     "execution_count": 35,
     "metadata": {},
     "output_type": "execute_result"
    }
   ],
   "source": [
    "word2vec.closest_embeddings(given_word='wissenschaft', n_closest=10, vocab=sg_vocab_kant_de_ws_4,\n",
    "                           embeddings=sg_embeddings_kant_de_ws_4, dist_type='cosine')"
   ]
  },
  {
   "cell_type": "markdown",
   "id": "e37d4c93",
   "metadata": {},
   "source": [
    "### window_size=3, remove_stop_words=False, sort_freq=15, n_epoch=3"
   ]
  },
  {
   "cell_type": "code",
   "execution_count": 39,
   "id": "5e7b77ed",
   "metadata": {},
   "outputs": [],
   "source": [
    "with open('../embeddings/ws_3/sg_kant_de_ws_3.pkl', 'rb') as f:  #wb - write binary; rb - read binary\n",
    "    sg_vocab_freq_kant_de_ws_3, sg_vocab_kant_de_ws_3, sg_embeddings_kant_de_ws_3 = pickle.load(f)"
   ]
  },
  {
   "cell_type": "code",
   "execution_count": 40,
   "id": "75347448",
   "metadata": {},
   "outputs": [
    {
     "data": {
      "text/plain": [
       "['veranlasst',\n",
       " 'hervorzubringen',\n",
       " 'diejenigen',\n",
       " 'sucht',\n",
       " 'theoretische',\n",
       " 'andere',\n",
       " 'rezeptivität',\n",
       " 'anzeigen',\n",
       " 'urtheilskraft',\n",
       " 'menschenvernunft']"
      ]
     },
     "execution_count": 40,
     "metadata": {},
     "output_type": "execute_result"
    }
   ],
   "source": [
    "word2vec.closest_embeddings(given_word='wissenschaft', n_closest=10, vocab=sg_vocab_kant_de_ws_3,\n",
    "                           embeddings=sg_embeddings_kant_de_ws_3, dist_type='cosine')"
   ]
  }
 ],
 "metadata": {
  "kernelspec": {
   "display_name": "Python 3 (ipykernel)",
   "language": "python",
   "name": "python3"
  },
  "language_info": {
   "codemirror_mode": {
    "name": "ipython",
    "version": 3
   },
   "file_extension": ".py",
   "mimetype": "text/x-python",
   "name": "python",
   "nbconvert_exporter": "python",
   "pygments_lexer": "ipython3",
   "version": "3.8.15"
  }
 },
 "nbformat": 4,
 "nbformat_minor": 5
}
