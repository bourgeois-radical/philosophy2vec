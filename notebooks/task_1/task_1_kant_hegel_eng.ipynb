{
 "cells": [
  {
   "cell_type": "code",
   "execution_count": 1,
   "id": "39787551",
   "metadata": {},
   "outputs": [],
   "source": [
    "# no cache; always uploading from modules\n",
    "%load_ext autoreload\n",
    "%autoreload 2\n",
    "\n",
    "# matplotib\n",
    "%matplotlib inline"
   ]
  },
  {
   "cell_type": "code",
   "execution_count": 1,
   "id": "d3ee0e75",
   "metadata": {},
   "outputs": [],
   "source": [
    "# built-in\n",
    "import sys\n",
    "import pickle\n",
    "\n",
    "# installed\n",
    "import numpy as np"
   ]
  },
  {
   "cell_type": "code",
   "execution_count": 2,
   "id": "73efeee6",
   "metadata": {},
   "outputs": [],
   "source": [
    "sys.path.append('../../')"
   ]
  },
  {
   "cell_type": "code",
   "execution_count": 4,
   "id": "13489f4e",
   "metadata": {},
   "outputs": [],
   "source": [
    "# local\n",
    "from utils.word2vec import Word2Vec"
   ]
  },
  {
   "cell_type": "code",
   "execution_count": 5,
   "id": "08023b32",
   "metadata": {},
   "outputs": [],
   "source": [
    "word2vec = Word2Vec()"
   ]
  },
  {
   "cell_type": "markdown",
   "id": "997eb874",
   "metadata": {},
   "source": [
    "# English"
   ]
  },
  {
   "cell_type": "markdown",
   "id": "a84609d2",
   "metadata": {},
   "source": [
    "## H E G E L"
   ]
  },
  {
   "cell_type": "code",
   "execution_count": 7,
   "id": "0c4c6296",
   "metadata": {},
   "outputs": [],
   "source": [
    "with open('../../embeddings/ws_4/sg_hegel_eng_ws_4.pkl', 'rb') as f:  #wb - write binary; rb - read binary\n",
    "    sg_vocab_freq_hegel_de_ws_4, sg_vocab_hegel_eng_ws_4, sg_embeddings_hegel_eng_ws_4 = pickle.load(f)"
   ]
  },
  {
   "cell_type": "markdown",
   "id": "ca222499",
   "metadata": {},
   "source": [
    "## K A N T"
   ]
  },
  {
   "cell_type": "code",
   "execution_count": 8,
   "id": "14ad41ef",
   "metadata": {},
   "outputs": [],
   "source": [
    "with open('../../embeddings/ws_4/sg_kant_eng_ws_4.pkl', 'rb') as f:  #wb - write binary; rb - read binary\n",
    "    sg_vocab_freq_kant_eng_ws_4, sg_vocab_kant_eng_ws_4, sg_embeddings_kant_eng_ws_4 = pickle.load(f)"
   ]
  },
  {
   "cell_type": "markdown",
   "id": "f73fa32f",
   "metadata": {},
   "source": [
    "# Find overlaps"
   ]
  },
  {
   "cell_type": "code",
   "execution_count": 9,
   "id": "d9bd5c9a",
   "metadata": {},
   "outputs": [],
   "source": [
    "overlap_hegel = []\n",
    "for term in sg_vocab_hegel_eng_ws_4[0:500]:\n",
    "    \n",
    "    hegel = set(word2vec.closest_embeddings(given_word=term, n_closest=20, vocab=sg_vocab_hegel_eng_ws_4,\n",
    "                       embeddings=sg_embeddings_hegel_eng_ws_4, dist_type='cosine'))\n",
    "    try:\n",
    "        kant = list(word2vec.closest_embeddings(given_word=term, n_closest=20, vocab=sg_vocab_kant_eng_ws_4,\n",
    "                           embeddings=sg_embeddings_kant_eng_ws_4, dist_type='cosine'))\n",
    "    except IndexError:\n",
    "        pass\n",
    "        #overlap.append((term, \"is not in Kant's vocab\"))\n",
    "    \n",
    "    for close_to_term in kant:\n",
    "        if close_to_term in hegel:\n",
    "            overlap_hegel.append((term, close_to_term))"
   ]
  },
  {
   "cell_type": "code",
   "execution_count": 19,
   "id": "d6074bef",
   "metadata": {},
   "outputs": [
    {
     "data": {
      "text/plain": [
       "[('universal', 'entire'),\n",
       " ('first', 'clearly'),\n",
       " ('law', 'rule'),\n",
       " ('world', 'intelligence'),\n",
       " ('world', 'possessing'),\n",
       " ('notion', 'added'),\n",
       " ('must', 'constant'),\n",
       " ('simple', 'related'),\n",
       " ('philosophy', 'system'),\n",
       " ('instead', 'acting'),\n",
       " ('idea', 'logical'),\n",
       " ('idea', 'subjective'),\n",
       " ('idea', 'properly'),\n",
       " ('negative', 'positive'),\n",
       " ('without', 'give'),\n",
       " ('element', 'ideality'),\n",
       " ('mere', 'applied'),\n",
       " ('mere', 'observe'),\n",
       " ('purpose', 'happiness'),\n",
       " ('experience', 'postulate'),\n",
       " ('experience', 'perception'),\n",
       " ('duty', 'completion'),\n",
       " ('determination', 'presupposes'),\n",
       " ('ethical', 'creation'),\n",
       " ('particular', 'singular'),\n",
       " ('give', 'liberty'),\n",
       " ('place', 'carry'),\n",
       " ('meaning', 'determinate'),\n",
       " ('becomes', 'leaf'),\n",
       " ('immediacy', 'subsistent'),\n",
       " ('state', 'wish'),\n",
       " ('word', 'assertion'),\n",
       " ('upon', 'subjective'),\n",
       " ('opposed', 'choice'),\n",
       " ('posited', 'water'),\n",
       " ('system', 'philosophy'),\n",
       " ('consists', 'dialectical'),\n",
       " ('given', 'necessarily'),\n",
       " ('concrete', 'unit'),\n",
       " ('logic', 'dialectic'),\n",
       " ('cause', 'causality'),\n",
       " ('cause', 'effect'),\n",
       " ('proposition', 'synthetical'),\n",
       " ('go', 'forced'),\n",
       " ('certain', 'adequate'),\n",
       " ('people', 'devoid'),\n",
       " ('representational', 'bring'),\n",
       " ('animal', 'plant'),\n",
       " ('quantity', 'extensive'),\n",
       " ('effect', 'cause'),\n",
       " ('acting', 'accordance'),\n",
       " ('might', 'good'),\n",
       " ('always', 'fashion'),\n",
       " ('sort', 'indicate'),\n",
       " ('complete', 'root'),\n",
       " ('let', 'leaf'),\n",
       " ('anything', 'requirement'),\n",
       " ('human', 'alleged'),\n",
       " ('whatever', 'correct'),\n",
       " ('sufficiency', 'conduct'),\n",
       " ('logical', 'idea'),\n",
       " ('intuition', 'devoid'),\n",
       " ('intuition', 'except'),\n",
       " ('worldly', 'step'),\n",
       " ('measure', 'direction'),\n",
       " ('great', 'explanation'),\n",
       " ('ii', 'chapter'),\n",
       " ('genus', 'member'),\n",
       " ('genus', 'identical'),\n",
       " ('distinct', 'unit'),\n",
       " ('posit', 'morality'),\n",
       " ('dialectic', 'logic'),\n",
       " ('long', 'leaf'),\n",
       " ('speculative', 'strictly'),\n",
       " ('medium', 'open'),\n",
       " ('per', 'se'),\n",
       " ('se', 'per'),\n",
       " ('grasped', 'exhibited'),\n",
       " ('eg', '§')]"
      ]
     },
     "execution_count": 19,
     "metadata": {},
     "output_type": "execute_result"
    }
   ],
   "source": [
    "overlap_hegel"
   ]
  },
  {
   "cell_type": "code",
   "execution_count": 20,
   "id": "8dff1966",
   "metadata": {},
   "outputs": [
    {
     "data": {
      "text/plain": [
       "79"
      ]
     },
     "execution_count": 20,
     "metadata": {},
     "output_type": "execute_result"
    }
   ],
   "source": [
    "len(overlap_hegel)"
   ]
  },
  {
   "cell_type": "code",
   "execution_count": 11,
   "id": "4b1c3965",
   "metadata": {},
   "outputs": [],
   "source": [
    "# overlap_kant = []\n",
    "# for term in sg_vocab_kant_eng_ws_4[0:500]:\n",
    "    \n",
    "#     kant = set(word2vec.closest_embeddings(given_word=term, n_closest=20, vocab=sg_vocab_kant_eng_ws_4,\n",
    "#                        embeddings=sg_embeddings_kant_eng_ws_4, dist_type='cosine'))\n",
    "#     try:\n",
    "#         hegel = list(word2vec.closest_embeddings(given_word=term, n_closest=20, vocab=sg_vocab_hegel_eng_ws_4,\n",
    "#                            embeddings=sg_embeddings_hegel_eng_ws_4, dist_type='cosine'))\n",
    "#     except IndexError:\n",
    "#         pass\n",
    "#         #overlap.append((term, \"is not in Kant's vocab\"))\n",
    "    \n",
    "#     for close_to_term in hegel:\n",
    "#         if close_to_term in kant:\n",
    "#             overlap_kant.append((term, close_to_term))"
   ]
  },
  {
   "cell_type": "code",
   "execution_count": 15,
   "id": "2184d158",
   "metadata": {},
   "outputs": [],
   "source": [
    "# overlap_kant"
   ]
  },
  {
   "cell_type": "code",
   "execution_count": 18,
   "id": "4a92a1c4",
   "metadata": {},
   "outputs": [
    {
     "data": {
      "text/plain": [
       "'consciousness'"
      ]
     },
     "execution_count": 18,
     "metadata": {},
     "output_type": "execute_result"
    }
   ],
   "source": [
    "sg_vocab_hegel_eng_ws_4[0]"
   ]
  },
  {
   "cell_type": "code",
   "execution_count": null,
   "id": "b244ce39",
   "metadata": {},
   "outputs": [],
   "source": []
  }
 ],
 "metadata": {
  "kernelspec": {
   "display_name": "Python 3 (ipykernel)",
   "language": "python",
   "name": "python3"
  },
  "language_info": {
   "codemirror_mode": {
    "name": "ipython",
    "version": 3
   },
   "file_extension": ".py",
   "mimetype": "text/x-python",
   "name": "python",
   "nbconvert_exporter": "python",
   "pygments_lexer": "ipython3",
   "version": "3.8.15"
  }
 },
 "nbformat": 4,
 "nbformat_minor": 5
}
