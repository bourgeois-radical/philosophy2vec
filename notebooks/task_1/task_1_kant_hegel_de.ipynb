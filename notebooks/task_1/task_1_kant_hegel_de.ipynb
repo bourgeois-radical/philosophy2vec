{
 "cells": [
  {
   "cell_type": "code",
   "execution_count": 1,
   "id": "3d36331f",
   "metadata": {},
   "outputs": [],
   "source": [
    "# no cache; always uploading from modules\n",
    "%load_ext autoreload\n",
    "%autoreload 2\n",
    "\n",
    "# matplotib\n",
    "%matplotlib inline"
   ]
  },
  {
   "cell_type": "code",
   "execution_count": 2,
   "id": "d10fd65a",
   "metadata": {},
   "outputs": [],
   "source": [
    "# built-in modules and packages\n",
    "import sys\n",
    "import pickle\n",
    "\n",
    "# installed modules and packages\n",
    "import numpy as np"
   ]
  },
  {
   "cell_type": "code",
   "execution_count": 3,
   "id": "02f3a890",
   "metadata": {},
   "outputs": [],
   "source": [
    "sys.path.append('../../')"
   ]
  },
  {
   "cell_type": "code",
   "execution_count": 5,
   "id": "fee3c126",
   "metadata": {},
   "outputs": [],
   "source": [
    "# local modules and packages\n",
    "from utils.word2vec import Word2Vec"
   ]
  },
  {
   "cell_type": "code",
   "execution_count": 7,
   "id": "30a41d07",
   "metadata": {},
   "outputs": [],
   "source": [
    "word2vec = Word2Vec()"
   ]
  },
  {
   "cell_type": "markdown",
   "id": "c8740ac9",
   "metadata": {},
   "source": [
    "# Deutsch"
   ]
  },
  {
   "cell_type": "markdown",
   "id": "3064c5f6",
   "metadata": {},
   "source": [
    "## H E G E L"
   ]
  },
  {
   "cell_type": "code",
   "execution_count": 8,
   "id": "2735f051",
   "metadata": {},
   "outputs": [],
   "source": [
    "with open('../../embeddings/ws_4/sg_hegel_de_ws_4.pkl', 'rb') as f:  #wb - write binary; rb - read binary\n",
    "    sg_vocab_freq_hegel_de_ws_4, sg_vocab_hegel_de_ws_4, sg_embeddings_hegel_de_ws_4 = pickle.load(f)"
   ]
  },
  {
   "cell_type": "markdown",
   "id": "fd78f924",
   "metadata": {},
   "source": [
    "## K A N T"
   ]
  },
  {
   "cell_type": "code",
   "execution_count": 9,
   "id": "f19ffb66",
   "metadata": {},
   "outputs": [],
   "source": [
    "with open('../../embeddings/ws_4/sg_kant_de_ws_4.pkl', 'rb') as f:  #wb - write binary; rb - read binary\n",
    "    sg_vocab_freq_kant_de_ws_4, sg_vocab_kant_de_ws_4, sg_embeddings_kant_de_ws_4 = pickle.load(f)"
   ]
  },
  {
   "cell_type": "markdown",
   "id": "62ad97a4",
   "metadata": {},
   "source": [
    "# Find overlaps"
   ]
  },
  {
   "cell_type": "code",
   "execution_count": 15,
   "id": "c576522d",
   "metadata": {},
   "outputs": [],
   "source": [
    "overlap_hegel = []\n",
    "for term in sg_vocab_hegel_de_ws_4[0:500]:\n",
    "    \n",
    "    hegel = set(word2vec.closest_embeddings(given_word=term, n_closest=20, vocab=sg_vocab_hegel_de_ws_4,\n",
    "                       embeddings=sg_embeddings_hegel_de_ws_4, dist_type='cosine'))\n",
    "    try:\n",
    "        kant = list(word2vec.closest_embeddings(given_word=term, n_closest=20, vocab=sg_vocab_kant_de_ws_4,\n",
    "                           embeddings=sg_embeddings_kant_de_ws_4, dist_type='cosine'))\n",
    "    except IndexError:\n",
    "        pass\n",
    "    \n",
    "    for close_to_term in kant:\n",
    "        if close_to_term in hegel:\n",
    "            overlap_hegel.append((term, close_to_term))\n"
   ]
  },
  {
   "cell_type": "code",
   "execution_count": 11,
   "id": "62b7e9a8",
   "metadata": {},
   "outputs": [
    {
     "data": {
      "text/plain": [
       "[('wesen', 'existiert'),\n",
       " ('bestimmtheit', 'bestimmend'),\n",
       " ('begriff', 'besonderes'),\n",
       " ('insofern', 'erstlich'),\n",
       " ('sei', 'gott'),\n",
       " ('negation', 'idealität'),\n",
       " ('eben', 'natürliche'),\n",
       " ('somit', 'irrtum'),\n",
       " ('allgemeinen', 'neben'),\n",
       " ('quantum', 'unendlichen'),\n",
       " ('darum', 'unmöglich'),\n",
       " ('unendliche', 'begrenzt'),\n",
       " ('vermittlung', 'notwendige'),\n",
       " ('subjekt', 'objektiv'),\n",
       " ('subjekt', 'prädikat'),\n",
       " ('grenze', 'begrenzt'),\n",
       " ('ganze', 'mannigfaltige'),\n",
       " ('wissenschaft', 'einleitung'),\n",
       " ('wissenschaft', 'logik'),\n",
       " ('geistes', 'vollständigen'),\n",
       " ('ersten', 'satz'),\n",
       " ('beide', 'entgegengesetzte'),\n",
       " ('unendlichen', 'quantum'),\n",
       " ('aufgehoben', 'nichtig'),\n",
       " ('einzelheit', 'versucht'),\n",
       " ('tritt', 'sphäre'),\n",
       " ('prädikat', 'urteils'),\n",
       " ('prädikat', 'subjekt'),\n",
       " ('zeit', 'entstehen'),\n",
       " ('zeit', 'synthesis'),\n",
       " ('möglichkeit', 'mögliche'),\n",
       " ('wirkung', 'kausalität'),\n",
       " ('objekt', 'begreifen'),\n",
       " ('gattung', 'allgemeinen'),\n",
       " ('findet', 'kant'),\n",
       " ('findet', 'besitz'),\n",
       " ('sinnlichen', 'mannigfaltige'),\n",
       " ('sinnlichen', 'sinnliche'),\n",
       " ('satz', 'ersten'),\n",
       " ('zb', 'körpers'),\n",
       " ('lässt', 'denkenden'),\n",
       " ('jedoch', 'unbestimmte'),\n",
       " ('raum', 'teilen'),\n",
       " ('raum', 'raume'),\n",
       " ('notwendig', 'gegenteil'),\n",
       " ('notwendig', 'existieren'),\n",
       " ('notwendig', 'kausalität'),\n",
       " ('identisch', 'unterscheidet'),\n",
       " ('sprache', 'genuss'),\n",
       " ('sinnliche', 'sinnlichen'),\n",
       " ('urteils', 'prädikat'),\n",
       " ('darauf', 'bedeuten'),\n",
       " ('teil', 'erfüllt'),\n",
       " ('vielen', 'schwere'),\n",
       " ('gelten', 'kategorien'),\n",
       " ('zufälligkeit', 'formalen'),\n",
       " ('entgegengesetzten', 'existieren'),\n",
       " ('subjektive', 'objektiv'),\n",
       " ('aufeinander', 'einander'),\n",
       " ('', 'a'),\n",
       " ('eigenschaft', 'sollten'),\n",
       " ('subjekts', 'verbunden'),\n",
       " ('gott', 'sei'),\n",
       " ('weniger', 'merkmal')]"
      ]
     },
     "execution_count": 11,
     "metadata": {},
     "output_type": "execute_result"
    }
   ],
   "source": [
    "overlap_hegel"
   ]
  },
  {
   "cell_type": "code",
   "execution_count": 12,
   "id": "648036a9",
   "metadata": {},
   "outputs": [
    {
     "data": {
      "text/plain": [
       "64"
      ]
     },
     "execution_count": 12,
     "metadata": {},
     "output_type": "execute_result"
    }
   ],
   "source": [
    "len(overlap_hegel)"
   ]
  },
  {
   "cell_type": "markdown",
   "id": "fb60e8de",
   "metadata": {},
   "source": [
    "# Example: \"Sei\" ---> \"Gott\""
   ]
  },
  {
   "cell_type": "code",
   "execution_count": 13,
   "id": "1884a78a",
   "metadata": {},
   "outputs": [
    {
     "data": {
      "text/plain": [
       "['erkenne', 'beiden', 'einzusehen', 'gott']"
      ]
     },
     "execution_count": 13,
     "metadata": {},
     "output_type": "execute_result"
    }
   ],
   "source": [
    "word2vec.closest_embeddings(given_word='sei', n_closest=16, vocab=sg_vocab_kant_de_ws_4,\n",
    "                           embeddings=sg_embeddings_kant_de_ws_4, dist_type='cosine')[5:9]"
   ]
  },
  {
   "cell_type": "code",
   "execution_count": 14,
   "id": "844ee8e0",
   "metadata": {},
   "outputs": [
    {
     "data": {
      "text/plain": [
       "['gar', 'absolutes', 'unmöglich', 'gott']"
      ]
     },
     "execution_count": 14,
     "metadata": {},
     "output_type": "execute_result"
    }
   ],
   "source": [
    "word2vec.closest_embeddings(given_word='sei', n_closest=16, vocab=sg_vocab_hegel_de_ws_4,\n",
    "                       embeddings=sg_embeddings_hegel_de_ws_4, dist_type='cosine')[12:16]"
   ]
  },
  {
   "cell_type": "markdown",
   "id": "e1f7afe0",
   "metadata": {},
   "source": [
    "### We observe the word \"Gott\" in 16 closest embeddings to word \"sei\" in Kant's as well as in Hegel's embeddings. This counts as one overlap."
   ]
  }
 ],
 "metadata": {
  "kernelspec": {
   "display_name": "Python 3 (ipykernel)",
   "language": "python",
   "name": "python3"
  },
  "language_info": {
   "codemirror_mode": {
    "name": "ipython",
    "version": 3
   },
   "file_extension": ".py",
   "mimetype": "text/x-python",
   "name": "python",
   "nbconvert_exporter": "python",
   "pygments_lexer": "ipython3",
   "version": "3.8.15"
  }
 },
 "nbformat": 4,
 "nbformat_minor": 5
}
